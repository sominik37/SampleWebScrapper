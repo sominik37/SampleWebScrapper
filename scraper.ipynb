{
 "cells": [
  {
   "cell_type": "code",
   "execution_count": 197,
   "metadata": {},
   "outputs": [],
   "source": [
    "import pandas as pd\n",
    "import requests\n",
    "from bs4 import BeautifulSoup as bs"
   ]
  },
  {
   "cell_type": "code",
   "execution_count": 198,
   "metadata": {},
   "outputs": [],
   "source": [
    "site = \"https://realpython.github.io/fake-jobs/\"\n",
    "page = requests.get(site)"
   ]
  },
  {
   "cell_type": "code",
   "execution_count": 199,
   "metadata": {},
   "outputs": [],
   "source": [
    "parse = bs(page.content, \"html.parser\")\n",
    "results = parse.find(id = \"ResultsContainer\")\n",
    "job_elements = results.find_all(\"div\", class_=\"card-content\")\n",
    "job_title1 = []\n",
    "company_name1 = []\n",
    "job_location1 = []\n",
    "cols = [\"Title\", \"Company\", \"Location\", \"Link\"]"
   ]
  },
  {
   "cell_type": "code",
   "execution_count": 200,
   "metadata": {},
   "outputs": [
    {
     "name": "stdout",
     "output_type": "stream",
     "text": [
      "                                 title                     company  \\\n",
      "0              Senior Python Developer    Payne, Roberts and Davis   \n",
      "1                      Energy engineer            Vasquez-Davidson   \n",
      "2                      Legal executive  Jackson, Chambers and Levy   \n",
      "3               Fitness centre manager              Savage-Bradley   \n",
      "4                      Product manager                 Ramirez Inc   \n",
      "..                                 ...                         ...   \n",
      "95  Museum/gallery exhibitions officer     Nguyen, Yoder and Petty   \n",
      "96            Radiographer, diagnostic                  Holder LLC   \n",
      "97              Database administrator              Yates-Ferguson   \n",
      "98                  Furniture designer             Ortega-Lawrence   \n",
      "99                         Ship broker   Fuentes, Walls and Castro   \n",
      "\n",
      "                                Location  \\\n",
      "0                Stewartbury, AA\\n         \n",
      "1           Christopherville, AA\\n         \n",
      "2            Port Ericaburgh, AA\\n         \n",
      "3              East Seanview, AP\\n         \n",
      "4            North Jamieview, AP\\n         \n",
      "..                                   ...   \n",
      "95              Lake Abigail, AE\\n         \n",
      "96                Jacobshire, AP\\n         \n",
      "97                Port Susan, AE\\n         \n",
      "98             North Tiffany, AA\\n         \n",
      "99             Michelleville, AP\\n         \n",
      "\n",
      "                                                 Link  \n",
      "0   https://realpython.github.io/fake-jobs/jobs/sh...  \n",
      "1   https://realpython.github.io/fake-jobs/jobs/sh...  \n",
      "2   https://realpython.github.io/fake-jobs/jobs/sh...  \n",
      "3   https://realpython.github.io/fake-jobs/jobs/sh...  \n",
      "4   https://realpython.github.io/fake-jobs/jobs/sh...  \n",
      "..                                                ...  \n",
      "95  https://realpython.github.io/fake-jobs/jobs/sh...  \n",
      "96  https://realpython.github.io/fake-jobs/jobs/sh...  \n",
      "97  https://realpython.github.io/fake-jobs/jobs/sh...  \n",
      "98  https://realpython.github.io/fake-jobs/jobs/sh...  \n",
      "99  https://realpython.github.io/fake-jobs/jobs/sh...  \n",
      "\n",
      "[100 rows x 4 columns]\n"
     ]
    }
   ],
   "source": [
    "Id = 0\n",
    "for element in job_elements:\n",
    "    Id = Id+1\n",
    "    job_id = Id\n",
    "    job_title = element.find(\"h2\", class_ = \"title\").text.strip()\n",
    "    company_name = element.find(\"h3\", class_ = \"company\").text.strip()\n",
    "    job_location = element.find(\"p\", class_ = \"location\").text.strip(\"\\n\")\n",
    "    \n",
    "    job_title1.append(job_title)\n",
    "    company_name1.append(company_name)\n",
    "    job_location1.append(job_location)\n",
    "    \n",
    "    ids = [job_id]\n",
    "    links = element.find_all(\"a\")\n",
    "    for link in links:\n",
    "        job_link = link[\"href\"]\n",
    "        data = {\n",
    "           \"title\":job_title1,\n",
    "           \"company\":company_name1,\n",
    "           \"Location\":job_location1,\n",
    "           \"Link\":job_link\n",
    "        }\n",
    "    df = pd.DataFrame(data)\n",
    "    \n",
    "print(df)"
   ]
  },
  {
   "cell_type": "code",
   "execution_count": 241,
   "metadata": {},
   "outputs": [
    {
     "name": "stdout",
     "output_type": "stream",
     "text": [
      "                                 title                     company  \\\n",
      "0              Senior Python Developer    Payne, Roberts and Davis   \n",
      "1                      Energy engineer            Vasquez-Davidson   \n",
      "2                      Legal executive  Jackson, Chambers and Levy   \n",
      "3               Fitness centre manager              Savage-Bradley   \n",
      "4                      Product manager                 Ramirez Inc   \n",
      "..                                 ...                         ...   \n",
      "95  Museum/gallery exhibitions officer     Nguyen, Yoder and Petty   \n",
      "96            Radiographer, diagnostic                  Holder LLC   \n",
      "97              Database administrator              Yates-Ferguson   \n",
      "98                  Furniture designer             Ortega-Lawrence   \n",
      "99                         Ship broker   Fuentes, Walls and Castro   \n",
      "\n",
      "                Location                                               Link  \n",
      "0        Stewartbury, AA  https://realpython.github.io/fake-jobs/jobs/sh...  \n",
      "1   Christopherville, AA  https://realpython.github.io/fake-jobs/jobs/sh...  \n",
      "2    Port Ericaburgh, AA  https://realpython.github.io/fake-jobs/jobs/sh...  \n",
      "3      East Seanview, AP  https://realpython.github.io/fake-jobs/jobs/sh...  \n",
      "4    North Jamieview, AP  https://realpython.github.io/fake-jobs/jobs/sh...  \n",
      "..                   ...                                                ...  \n",
      "95      Lake Abigail, AE  https://realpython.github.io/fake-jobs/jobs/sh...  \n",
      "96        Jacobshire, AP  https://realpython.github.io/fake-jobs/jobs/sh...  \n",
      "97        Port Susan, AE  https://realpython.github.io/fake-jobs/jobs/sh...  \n",
      "98     North Tiffany, AA  https://realpython.github.io/fake-jobs/jobs/sh...  \n",
      "99     Michelleville, AP  https://realpython.github.io/fake-jobs/jobs/sh...  \n",
      "\n",
      "[100 rows x 4 columns]\n"
     ]
    }
   ],
   "source": [
    "n=0\n",
    "while n <len(df):\n",
    "    df.Location[n] = df.Location[n].strip()\n",
    "    n = n+1\n",
    "df.Location\n",
    "print(df)"
   ]
  },
  {
   "cell_type": "code",
   "execution_count": 202,
   "metadata": {},
   "outputs": [],
   "source": [
    "df.to_csv(\"all1.csv\")"
   ]
  },
  {
   "cell_type": "code",
   "execution_count": null,
   "metadata": {},
   "outputs": [],
   "source": []
  }
 ],
 "metadata": {
  "kernelspec": {
   "display_name": "scrapenv",
   "language": "python",
   "name": "python3"
  },
  "language_info": {
   "codemirror_mode": {
    "name": "ipython",
    "version": 3
   },
   "file_extension": ".py",
   "mimetype": "text/x-python",
   "name": "python",
   "nbconvert_exporter": "python",
   "pygments_lexer": "ipython3",
   "version": "3.10.8"
  },
  "orig_nbformat": 4,
  "vscode": {
   "interpreter": {
    "hash": "be47af9b3a68f512aebd8c46c757cc5cf1aa77b5aa191d910d64e275b7bc2fcd"
   }
  }
 },
 "nbformat": 4,
 "nbformat_minor": 2
}
